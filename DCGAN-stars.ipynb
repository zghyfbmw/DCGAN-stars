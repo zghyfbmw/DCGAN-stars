import numpy as np
import matplotlib.pyplot as plt
import seaborn as sns



# print original images
plt.figure(figsize=(10, 10))X_train = np.load('/Users/zhangguanghua/Desktop/Stampede/training_images.90k.npy')
X_train = X_train[:600, 1:4, 8:-8, 8:-8]

idx = np.unique(np.where(np.min(X_train, axis=(1, 2, 3)) < 21.5)[0])
X_train = X_train[idx]


def normalize(array):
    return (array - array.min()) / (array.max() - array.min())


for i in range(3):
    X_train[:, i, :, :] = normalize(X_train[:, i, :, :])

X_train = 1.0 - X_train
print(np.min(X_train), np.max(X_train))

print('X_train shape:', X_train.shape)
print(X_train.shape[0], 'train samples')

cmap = sns.cubehelix_palette(light=1, as_cmap=True)

for i in range(25):
    plt.subplot(5, 5, i + 1)
    img = 255 * X_train[i, 2, :, :]
    plt.imshow(img, cmap=cmap)
    plt.axis('off')
plt.tight_layout()
plt.show()

# print generated images
generated = np.load('/Users/zhangguanghua/Desktop/Stampede/r_generated_images.npy')
plt.figure(figsize=(10, 10))
for i in range(25):
    plt.subplot(5, 5, i + 1)
    img = 255 * generated[i, 0, :, :]
    plt.imshow(img, cmap=cmap)
    plt.axis('off')
plt.tight_layout()
plt.show()
