%matplotlib inline
import numpy as np
import matplotlib.pyplot as plt
import seaborn as sns
import keras

data1 = np.load('/Users/zhangguanghua/Desktop/Stampede/sdss_cutout.001.npy')
data2 = np.load('/Users/zhangguanghua/Desktop/Stampede/sdss_cutout.002.npy')
data3 = np.load('/Users/zhangguanghua/Desktop/Stampede/sdss_cutout.003.npy')
C1 = np.concatenate([data1, data2])


X_train = np.concatenate([C1, data3])

X_train = X_train[:600, 1:4, 16:-16, 16:-16]

idx = np.unique(np.where(np.min(X_train, axis=(1, 2, 3)) < 21.5)[0])
X_train = X_train[idx]


def normalize(array):
    return (array - array.min()) / (array.max() - array.min())


for i in range(3):
    X_train[:, i, :, :] = normalize(X_train[:, i, :, :])

X_train = 1.0 - X_train
print(np.min(X_train), np.max(X_train))

print('X_train shape:', X_train.shape)
print(X_train.shape[0], 'train samples')

cmap = sns.cubehelix_palette(light=1, as_cmap=True)

plt.figure(figsize=(10, 10))
for i in range(25):
    plt.subplot(5, 5, i + 1)
    img = 255 * X_train[i, 2, :, :]
    plt.imshow(img, cmap=cmap)
    plt.axis('off')
plt.tight_layout()
plt.show()
# print generated images
generated = np.load('/Users/zhangguanghua/Desktop/Stampede/7_generated_images.npy')
plt.figure(figsize=(10, 10))
for i in range(25):
    plt.subplot(5, 5, i + 1)
    img = 255 * generated[i, 2, :, :]
    plt.imshow(img, cmap=cmap)
    plt.axis('off')
plt.tight_layout()
plt.show()
